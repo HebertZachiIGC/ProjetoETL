{
 "cells": [
  {
   "cell_type": "code",
   "execution_count": null,
   "metadata": {},
   "outputs": [],
   "source": [
    "import pandas as pd\n",
    "import psycopg2\n",
    "from sqlalchemy import create_engine\n",
    "from dotenv import load_dotenv\n",
    "import os\n",
    "import numpy as np\n",
    "\n",
    "load_dotenv()\n",
    "\n",
    "# db_user = os.getenv(\"DB_USER1\")\n",
    "# db_password = os.getenv(\"DB_PASSWORD1\")\n",
    "# db_host = os.getenv(\"DB_HOST1\")\n",
    "# db_port = os.getenv(\"DB_PORT1\")\n",
    "# db_database = os.getenv(\"DB_DATABASE1\")\n",
    "\n",
    "# connection_url = f'postgresql+psycopg2://{db_user}:{db_password}@{db_host}:{db_port}/{db_database}'\n",
    "# engine = create_engine(connection_url)\n",
    "\n",
    "path = \"./../BaseTargetList.xlsx\"\n",
    "df = pd.read_excel(path)"
   ]
  },
  {
   "cell_type": "code",
   "execution_count": null,
   "metadata": {},
   "outputs": [],
   "source": [
    "df['LastContactDate'].head()"
   ]
  },
  {
   "cell_type": "code",
   "execution_count": null,
   "metadata": {},
   "outputs": [],
   "source": [
    "# df2[] = df.groupby(['Buyer', 'ClientSubSector'])['ClientSubSector'].count()"
   ]
  },
  {
   "cell_type": "code",
   "execution_count": null,
   "metadata": {},
   "outputs": [],
   "source": [
    "# df2 = df.groupby(['Buyer', 'ClientSubSector']).size().to_frame(name = 'counterParty')\n",
    "# # test2.head(20)\n",
    "# # test2.info()"
   ]
  },
  {
   "cell_type": "code",
   "execution_count": null,
   "metadata": {},
   "outputs": [],
   "source": [
    "# df2"
   ]
  },
  {
   "cell_type": "code",
   "execution_count": null,
   "metadata": {},
   "outputs": [],
   "source": [
    "# test = df.groupby(['Buyer'])['ClientSubSector'].count()\n",
    "# test = pd.DataFrame(test)\n",
    "# test.head(20)"
   ]
  },
  {
   "cell_type": "code",
   "execution_count": null,
   "metadata": {},
   "outputs": [],
   "source": [
    "# print(db_user)"
   ]
  },
  {
   "cell_type": "code",
   "execution_count": null,
   "metadata": {},
   "outputs": [],
   "source": [
    "df = df.sort_values('Buyer').reset_index()\n",
    "df.drop('index', axis=1, inplace=True)\n",
    "df"
   ]
  },
  {
   "cell_type": "code",
   "execution_count": null,
   "metadata": {},
   "outputs": [],
   "source": [
    "# test2 = df.groupby(['Buyer', 'ClientSubSector'])['ClientSubSector'].transform('count')\n",
    "# # test2.head(20)\n",
    "# test2.info()"
   ]
  },
  {
   "cell_type": "code",
   "execution_count": null,
   "metadata": {},
   "outputs": [],
   "source": [
    "# #Número de vezes me que esse buyer foi considerado para deals neste sub-setor;\n",
    "# df['NDeals'] = df.groupby(['Buyer', 'ClientSubSector'])['ClientSubSector'].transform('count')\n",
    "# # test = df[df[\"Buyer\"] == '3 Tentos']\n",
    "# df[]\n"
   ]
  },
  {
   "cell_type": "code",
   "execution_count": null,
   "metadata": {},
   "outputs": [],
   "source": [
    "# # Número de NDAs assinados por esse buyer para deals neste sub-setor; \n",
    "df[\"NumberOfNDAPerBuyerInSubSector\"] = df.groupby(['Buyer', 'ClientSubSector'])['SignedNDADate'].transform('count')\n",
    "# df"
   ]
  },
  {
   "cell_type": "code",
   "execution_count": null,
   "metadata": {},
   "outputs": [],
   "source": [
    "# Número de Gos do Buyer nesse setor\n",
    "df[\"NumberOfGosPerBuyerInSubSector\"] = df.groupby(['Buyer', 'ClientSubSector'])['PassedReason'].transform('count')"
   ]
  },
  {
   "cell_type": "code",
   "execution_count": null,
   "metadata": {},
   "outputs": [],
   "source": [
    "# Número de No Gos, por razão de tamanho, neste sub-setor; \n",
    "\n",
    "TooSmall = df.groupby(['Buyer', 'ClientSubSector'])['PassedReason'].transform(lambda x: (x == 'Too Small').sum())\n",
    "TooBig = df.groupby(['Buyer', 'ClientSubSector'])['PassedReason'].transform(lambda x: (x == 'Too Big').sum())\n",
    "df['NumberOfGosPerSizeInSubSector'] = TooSmall + TooBig"
   ]
  },
  {
   "cell_type": "code",
   "execution_count": null,
   "metadata": {},
   "outputs": [],
   "source": [
    "#Número de NBOs enviadas pelo buyer para deals neste sub-setor\n",
    "df['NumberOfNBOperDealsInSubSector']  = df.groupby(['Buyer', 'ClientSubSector'])['SubmittedNBODate'].transform('count')"
   ]
  },
  {
   "cell_type": "code",
   "execution_count": null,
   "metadata": {},
   "outputs": [],
   "source": [
    "#Média do Tamanho dos Deals\n",
    "df['AverageSizePerDealInSubSector'] = df.groupby(['Buyer', 'ClientSubSector'])['EstimatedDealSize'].transform('mean')"
   ]
  },
  {
   "cell_type": "code",
   "execution_count": null,
   "metadata": {},
   "outputs": [],
   "source": [
    "#Mediana do Tamanho dos Deals\n",
    "df['MedianSizePerDealInSubSector'] = df.groupby(['Buyer', 'ClientSubSector'])['EstimatedDealSize'].transform('median')"
   ]
  },
  {
   "cell_type": "code",
   "execution_count": null,
   "metadata": {},
   "outputs": [],
   "source": [
    "#Data da última NBO enviada pelo Buyer\n",
    "df['NBOLastDatePerDealInSubSector'] = df.groupby(['Buyer', 'ClientSubSector'])['SubmittedNBODate'].transform('max')"
   ]
  },
  {
   "cell_type": "code",
   "execution_count": null,
   "metadata": {},
   "outputs": [],
   "source": [
    "#Números de Deals fechados por esse buyer nesse setor\n",
    "df['DealClosePerClientSector'] = df.groupby(['Buyer', 'ClientSubSector'])['Deal Close Date'].transform('count')"
   ]
  },
  {
   "cell_type": "code",
   "execution_count": null,
   "metadata": {},
   "outputs": [],
   "source": [
    "#Data do último Deal fechado nesse sub-setor\n",
    "# df['LastDateCloseDealPerInSubSector'] = df.groupby([ 'ClientSubSector'])['Deal Close Date'].transform('max')\n",
    "test = df.groupby([ 'ClientSubSector'])['Deal Close Date'].transform('max')\n",
    "test = pd.DataFrame(test)\n",
    "df"
   ]
  },
  {
   "cell_type": "code",
   "execution_count": null,
   "metadata": {},
   "outputs": [],
   "source": [
    "#Contato do buyer, considerando a data de contato mais recente; \n",
    "df_sorted = df.sort_values(by=['Buyer', 'LastContactDate'], ascending=[True, False])\n",
    "df['MostRecentContact'] = df_sorted.groupby('Buyer')['BuyerContact'].transform('first')"
   ]
  },
  {
   "cell_type": "markdown",
   "metadata": {},
   "source": []
  },
  {
   "cell_type": "code",
   "execution_count": null,
   "metadata": {},
   "outputs": [],
   "source": [
    "df['IsEqual'] = df['BuyerSubSector'] == df['ClientSubSector']"
   ]
  },
  {
   "cell_type": "code",
   "execution_count": null,
   "metadata": {},
   "outputs": [],
   "source": [
    "# db_user = os.getenv(\"DB_USER1\")\n",
    "# db_password = os.getenv(\"DB_PASSWORD1\")\n",
    "# db_host = os.getenv(\"DB_HOST1\")\n",
    "# db_port = os.getenv(\"DB_PORT1\")\n",
    "# db_database = os.getenv(\"DB_DATABASE1\")\n",
    "\n",
    "# connection_url = f'postgresql+psycopg2://{db_user}:{db_password}@{db_host}:{db_port}/{db_database}'\n",
    "# engine = create_engine(connection_url)"
   ]
  },
  {
   "cell_type": "code",
   "execution_count": null,
   "metadata": {},
   "outputs": [],
   "source": [
    "# print(engine.connect())\n",
    "# print(connection_url)"
   ]
  },
  {
   "cell_type": "code",
   "execution_count": null,
   "metadata": {},
   "outputs": [],
   "source": [
    "dropEssasColunas = ['BuyerSubSector', 'BuyerContact', 'LastContactDate',\t'PassedReason', 'SignedNDADate', 'SubmittedNBODate', 'EstimatedDealSize', 'Deal Close Date']\n",
    "df.drop(dropEssasColunas, axis=1, inplace=True)\n",
    "\n",
    "# db_user = 'postgres'\n",
    "# db_password = 'AmbienteDev'\n",
    "# db_host = 'localhost'\n",
    "# db_port = 5432\n",
    "# db_database = 'projetoetl'\n",
    "# connection_url = f'postgresql+psycopg2://{db_user}:{db_password}@{db_host}:{db_port}/{db_database}'\n",
    "# engine = create_engine(connection_url)\n",
    "# tabela = 'target2'\n",
    "# df.to_sql(tabela, engine, index=False, if_exists='replace')"
   ]
  },
  {
   "cell_type": "code",
   "execution_count": null,
   "metadata": {},
   "outputs": [],
   "source": []
  },
  {
   "cell_type": "code",
   "execution_count": null,
   "metadata": {},
   "outputs": [],
   "source": []
  },
  {
   "cell_type": "code",
   "execution_count": null,
   "metadata": {},
   "outputs": [],
   "source": [
    "df = df.replace('NaT', np.nan)\n",
    "df.head()"
   ]
  },
  {
   "cell_type": "code",
   "execution_count": null,
   "metadata": {},
   "outputs": [],
   "source": [
    "df"
   ]
  },
  {
   "cell_type": "code",
   "execution_count": null,
   "metadata": {},
   "outputs": [],
   "source": [
    "df = df.fillna(\"\")\n",
    "df\n",
    "# df2 = df.groupby('Buyer')['NBOLastDatePerDealInSubSector']\n",
    "# # print(type(df2))\n",
    "# # df2.head()\n",
    "# # type(df2)\n",
    "# # df2.info()\n",
    "# # df2[0]\n",
    "# for i in df2:\n",
    "#   print(type(df2[i]))"
   ]
  },
  {
   "cell_type": "code",
   "execution_count": null,
   "metadata": {},
   "outputs": [],
   "source": [
    "caminho_arquivo_excel = './arquivoTest3.csv'\n",
    "# Exporte o DataFrame para o arquivo Excel\n",
    "df.to_csv(caminho_arquivo_excel, index=False)"
   ]
  },
  {
   "cell_type": "code",
   "execution_count": null,
   "metadata": {},
   "outputs": [],
   "source": [
    "# df[df['NumberOfNDAPerBuyerInSubSector'] ==  ]\n",
    "# df"
   ]
  },
  {
   "cell_type": "code",
   "execution_count": null,
   "metadata": {},
   "outputs": [],
   "source": [
    "db_user = 'postgres'\n",
    "db_password = 'AmbienteDev'\n",
    "db_host = 'localhost'\n",
    "db_port = 5432\n",
    "db_database = 'projetoetl'\n",
    "connection_url = f'postgresql+psycopg2://{db_user}:{db_password}@{db_host}:{db_port}/{db_database}'\n",
    "engine = create_engine(connection_url)\n",
    "tabela = 'targetTest'\n",
    "df.to_sql(tabela, engine, index=False, if_exists='replace')"
   ]
  },
  {
   "cell_type": "code",
   "execution_count": null,
   "metadata": {},
   "outputs": [],
   "source": [
    "df[df['Buyer']=='XPO Logistics']"
   ]
  },
  {
   "cell_type": "code",
   "execution_count": null,
   "metadata": {},
   "outputs": [],
   "source": [
    "# df.head()\n",
    "# df[df['NBOLastDatePerDealInSubSector'] != np.nan]\n",
    "df['NBOLastDatePerDealInSubSector'].head(50) \n"
   ]
  },
  {
   "cell_type": "code",
   "execution_count": null,
   "metadata": {},
   "outputs": [],
   "source": [
    "df[df['Buyer'] == 'Xirgo']"
   ]
  },
  {
   "cell_type": "code",
   "execution_count": null,
   "metadata": {},
   "outputs": [],
   "source": [
    "df['NBOLastDatePerDealInSubSector'].head(50) "
   ]
  }
 ],
 "metadata": {
  "kernelspec": {
   "display_name": "Python 3",
   "language": "python",
   "name": "python3"
  },
  "language_info": {
   "codemirror_mode": {
    "name": "ipython",
    "version": 3
   },
   "file_extension": ".py",
   "mimetype": "text/x-python",
   "name": "python",
   "nbconvert_exporter": "python",
   "pygments_lexer": "ipython3",
   "version": "3.11.4"
  },
  "orig_nbformat": 4
 },
 "nbformat": 4,
 "nbformat_minor": 2
}
